{
 "nbformat": 4,
 "nbformat_minor": 2,
 "metadata": {
  "language_info": {
   "name": "python",
   "codemirror_mode": {
    "name": "ipython",
    "version": 3
   },
   "version": "3.7.4-final"
  },
  "orig_nbformat": 2,
  "file_extension": ".py",
  "mimetype": "text/x-python",
  "name": "python",
  "npconvert_exporter": "python",
  "pygments_lexer": "ipython3",
  "version": 3,
  "kernelspec": {
   "name": "python3",
   "display_name": "Python 3"
  }
 },
 "cells": [
  {
   "cell_type": "code",
   "execution_count": null,
   "metadata": {},
   "outputs": [],
   "source": [
    "from "
   ]
  },
  {
   "cell_type": "code",
   "execution_count": 1,
   "metadata": {},
   "outputs": [],
   "source": [
    "import sonnet_helper as sh\n",
    "import pickle as pkl\n",
    "from HMM import unsupervised_HMM"
   ]
  },
  {
   "cell_type": "code",
   "execution_count": 2,
   "metadata": {},
   "outputs": [],
   "source": [
    "sonnets = sh.load_sonnet_text('shakespeare.txt')\n",
    "dictionary = sh.get_dictionary(sonnets)\n",
    "rhymes = sh.get_rhymes(sonnets)\n",
    "seqs = sh.sonnets_to_seqs(sonnets)\n"
   ]
  },
  {
   "cell_type": "code",
   "execution_count": null,
   "metadata": {},
   "outputs": [],
   "source": [
    "N_states = 8 # can be changed\n",
    "N_iters = 5 # can be changed\n",
    "\n",
    "hmm = unsupervised_HMM(seqs, N_states, dictionary, N_iters)"
   ]
  },
  {
   "cell_type": "code",
   "execution_count": 9,
   "metadata": {},
   "outputs": [],
   "source": [
    "file = open('8_state_5_iters.pkl','wb')\n",
    "pkl.dump(hmm,file)\n",
    "file.close()"
   ]
  },
  {
   "cell_type": "code",
   "execution_count": 4,
   "metadata": {},
   "outputs": [],
   "source": [
    "file = open('8_state_5_iters.pkl','rb')\n",
    "hmm = pkl.load(file)\n",
    "file.close()"
   ]
  },
  {
   "cell_type": "code",
   "execution_count": 8,
   "metadata": {},
   "outputs": [
    {
     "name": "stdout",
     "output_type": "stream",
     "text": "About that much my astronomy and grew\nBut good betray sour I arise for\nTo flowers with to rest to bastard\nLeap beauteous doth world to mine but\nShort I feeble canopy fast youth unswayed\nHate's when and shadow th' another makes\nNot and in upon go is sleep\nNever is is sorrow that to my\nThe of for in of a wear\nThou far why thief that I eyes\nAre they while can before make medicine\nShows thy untrimmed o'erlook brand love single\nBe would thou to my I (dear\nI dead when breeds odour my sap\n"
    }
   ],
   "source": [
    "new_sonnet = sh.generate_naive_sonnet(hmm,7)\n",
    "for line in new_sonnet:\n",
    "    print(line)"
   ]
  }
 ]
}